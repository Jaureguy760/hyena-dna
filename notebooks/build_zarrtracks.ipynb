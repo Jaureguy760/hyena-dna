{
 "cells": [
  {
   "cell_type": "code",
   "execution_count": 1,
   "metadata": {},
   "outputs": [
    {
     "name": "stderr",
     "output_type": "stream",
     "text": [
      "/iblm/netapp/home/dlaub/miniforge3/envs/dna-lm/lib/python3.10/site-packages/pandas/core/computation/expressions.py:21: UserWarning: Pandas requires version '2.8.4' or newer of 'numexpr' (version '2.7.3' currently installed).\n",
      "  from pandas.core.computation.check import NUMEXPR_INSTALLED\n"
     ]
    }
   ],
   "source": [
    "import genvarloader as gvl\n",
    "import polars as pl\n",
    "from pathlib import Path"
   ]
  },
  {
   "cell_type": "code",
   "execution_count": 2,
   "metadata": {},
   "outputs": [],
   "source": [
    "data_dir = Path('/iblm/netapp/data4/shared_dir/hyena_dna_collab/downstream_tasks/iPSCORE_cvpc')"
   ]
  },
  {
   "cell_type": "code",
   "execution_count": 3,
   "metadata": {},
   "outputs": [],
   "source": [
    "with open(data_dir / 'samples_gt.txt') as f:\n",
    "    samples = f.read().splitlines()\n",
    "samples = pl.DataFrame({'sample': samples})"
   ]
  },
  {
   "cell_type": "code",
   "execution_count": 7,
   "metadata": {},
   "outputs": [
    {
     "data": {
      "text/html": [
       "<div><style>\n",
       ".dataframe > thead > tr,\n",
       ".dataframe > tbody > tr {\n",
       "  text-align: right;\n",
       "  white-space: pre-wrap;\n",
       "}\n",
       "</style>\n",
       "<small>shape: (5, 2)</small><table border=\"1\" class=\"dataframe\"><thead><tr><th>sample</th><th>path</th></tr><tr><td>str</td><td>str</td></tr></thead><tbody><tr><td>&quot;001a6b85-bf54-…</td><td>&quot;/iblm/netapp/d…</td></tr><tr><td>&quot;001b47b2-67fc-…</td><td>&quot;/iblm/netapp/d…</td></tr><tr><td>&quot;011b5bae-c25d-…</td><td>&quot;/iblm/netapp/d…</td></tr><tr><td>&quot;01fe3fd3-5392-…</td><td>&quot;/iblm/netapp/d…</td></tr><tr><td>&quot;024f3a84-e1ec-…</td><td>&quot;/iblm/netapp/d…</td></tr></tbody></table></div>"
      ],
      "text/plain": [
       "shape: (5, 2)\n",
       "┌───────────────────────────────────┬───────────────────────────────────┐\n",
       "│ sample                            ┆ path                              │\n",
       "│ ---                               ┆ ---                               │\n",
       "│ str                               ┆ str                               │\n",
       "╞═══════════════════════════════════╪═══════════════════════════════════╡\n",
       "│ 001a6b85-bf54-4e81-b4f7-cff27a06… ┆ /iblm/netapp/data4/shared_dir/hy… │\n",
       "│ 001b47b2-67fc-471f-8501-928295e7… ┆ /iblm/netapp/data4/shared_dir/hy… │\n",
       "│ 011b5bae-c25d-43e9-a5dc-fd5f8a2f… ┆ /iblm/netapp/data4/shared_dir/hy… │\n",
       "│ 01fe3fd3-5392-45e6-93b7-44815110… ┆ /iblm/netapp/data4/shared_dir/hy… │\n",
       "│ 024f3a84-e1ec-4049-95e7-ecc8f396… ┆ /iblm/netapp/data4/shared_dir/hy… │\n",
       "└───────────────────────────────────┴───────────────────────────────────┘"
      ]
     },
     "execution_count": 7,
     "metadata": {},
     "output_type": "execute_result"
    }
   ],
   "source": [
    "files = (\n",
    "    pl.read_csv(data_dir / 'coverage_bigwigs.txt', has_header=False, new_columns=['path'])\n",
    "    .with_columns(\n",
    "        sample=pl.col('path').str.split('/').list.get(1)\n",
    "    )\n",
    "    .with_columns(\n",
    "        path=str(data_dir / 'final_genotypes') + '/' + pl.col('sample') + '/' + 'coverage_' + pl.col('sample') + '.bw'\n",
    "    )\n",
    ")\n",
    "files = samples.join(files, on='sample', how='left')\n",
    "files.head()"
   ]
  },
  {
   "cell_type": "code",
   "execution_count": 9,
   "metadata": {},
   "outputs": [],
   "source": [
    "files.write_csv(data_dir / 'sample2bw.csv')"
   ]
  },
  {
   "cell_type": "code",
   "execution_count": 5,
   "metadata": {},
   "outputs": [],
   "source": [
    "bws = {s: files[s] for s in samples}"
   ]
  },
  {
   "cell_type": "code",
   "execution_count": 6,
   "metadata": {},
   "outputs": [],
   "source": [
    "bw_reader = gvl.BigWigs('cov', bws)"
   ]
  },
  {
   "cell_type": "code",
   "execution_count": 7,
   "metadata": {},
   "outputs": [
    {
     "data": {
      "application/vnd.jupyter.widget-view+json": {
       "model_id": "0345e5a0a48f4c5b94f37dbd997e6fb4",
       "version_major": 2,
       "version_minor": 0
      },
      "text/plain": [
       "  0%|          | 0/6370 [00:00<?, ?it/s]"
      ]
     },
     "metadata": {},
     "output_type": "display_data"
    },
    {
     "ename": "KeyboardInterrupt",
     "evalue": "",
     "output_type": "error",
     "traceback": [
      "\u001b[0;31m---------------------------------------------------------------------------\u001b[0m",
      "\u001b[0;31mKeyboardInterrupt\u001b[0m                         Traceback (most recent call last)",
      "Cell \u001b[0;32mIn[7], line 1\u001b[0m\n\u001b[0;32m----> 1\u001b[0m ztracks \u001b[38;5;241m=\u001b[39m \u001b[43mgvl\u001b[49m\u001b[38;5;241;43m.\u001b[39;49m\u001b[43mZarrTracks\u001b[49m\u001b[38;5;241;43m.\u001b[39;49m\u001b[43mfrom_reader\u001b[49m\u001b[43m(\u001b[49m\n\u001b[1;32m      2\u001b[0m \u001b[43m    \u001b[49m\u001b[43mbw_reader\u001b[49m\u001b[43m,\u001b[49m\n\u001b[1;32m      3\u001b[0m \u001b[43m    \u001b[49m\u001b[38;5;124;43m'\u001b[39;49m\u001b[38;5;124;43m/iblm/netapp/data4/shared_dir/hyena_dna_collab/downstream_tasks/iPSCORE_cvpc/rna_coverage.zarr\u001b[39;49m\u001b[38;5;124;43m'\u001b[39;49m\u001b[43m,\u001b[49m\n\u001b[1;32m      4\u001b[0m \u001b[43m)\u001b[49m\n",
      "File \u001b[0;32m~/miniforge3/envs/dna-lm/lib/python3.10/site-packages/genvarloader/zarr.py:115\u001b[0m, in \u001b[0;36mZarrTracks.from_reader\u001b[0;34m(cls, reader, path, chunk_shape)\u001b[0m\n\u001b[1;32m    111\u001b[0m \u001b[38;5;28;01mfor\u001b[39;00m b_idx, samples \u001b[38;5;129;01min\u001b[39;00m \u001b[38;5;28menumerate\u001b[39m(\n\u001b[1;32m    112\u001b[0m     batched(reader\u001b[38;5;241m.\u001b[39mcoords[\u001b[38;5;124m\"\u001b[39m\u001b[38;5;124msample\u001b[39m\u001b[38;5;124m\"\u001b[39m], \u001b[38;5;241m10\u001b[39m)\n\u001b[1;32m    113\u001b[0m ):\n\u001b[1;32m    114\u001b[0m     pbar\u001b[38;5;241m.\u001b[39mset_description(\u001b[38;5;124mf\u001b[39m\u001b[38;5;124m\"\u001b[39m\u001b[38;5;124mReading \u001b[39m\u001b[38;5;132;01m{\u001b[39;00mcontig\u001b[38;5;132;01m}\u001b[39;00m\u001b[38;5;124m\"\u001b[39m)\n\u001b[0;32m--> 115\u001b[0m     data \u001b[38;5;241m=\u001b[39m \u001b[43mreader\u001b[49m\u001b[38;5;241;43m.\u001b[39;49m\u001b[43mread\u001b[49m\u001b[43m(\u001b[49m\u001b[43mcontig\u001b[49m\u001b[43m,\u001b[49m\u001b[43m \u001b[49m\u001b[38;5;241;43m0\u001b[39;49m\u001b[43m,\u001b[49m\u001b[43m \u001b[49m\u001b[43me\u001b[49m\u001b[43m,\u001b[49m\u001b[43m \u001b[49m\u001b[43msample\u001b[49m\u001b[38;5;241;43m=\u001b[39;49m\u001b[43msamples\u001b[49m\u001b[43m)\u001b[49m\n\u001b[1;32m    117\u001b[0m     \u001b[38;5;28;01mif\u001b[39;00m tstore \u001b[38;5;129;01mis\u001b[39;00m \u001b[38;5;28;01mNone\u001b[39;00m:\n\u001b[1;32m    118\u001b[0m         tstore \u001b[38;5;241m=\u001b[39m ts_open(\n\u001b[1;32m    119\u001b[0m             dtype\u001b[38;5;241m=\u001b[39mdata\u001b[38;5;241m.\u001b[39mdtype,\n\u001b[1;32m    120\u001b[0m             shape\u001b[38;5;241m=\u001b[39m(reader\u001b[38;5;241m.\u001b[39msizes[\u001b[38;5;124m\"\u001b[39m\u001b[38;5;124msample\u001b[39m\u001b[38;5;124m\"\u001b[39m], \u001b[38;5;241m*\u001b[39mdata\u001b[38;5;241m.\u001b[39mshape[\u001b[38;5;241m1\u001b[39m:]),\n\u001b[1;32m    121\u001b[0m         )\u001b[38;5;241m.\u001b[39mresult()\n",
      "File \u001b[0;32m~/miniforge3/envs/dna-lm/lib/python3.10/site-packages/genvarloader/bigwig.py:97\u001b[0m, in \u001b[0;36mBigWigs.read\u001b[0;34m(self, contig, starts, ends, **kwargs)\u001b[0m\n\u001b[1;32m     95\u001b[0m \u001b[38;5;28;01mfor\u001b[39;00m s, e, r_s, r_e \u001b[38;5;129;01min\u001b[39;00m \u001b[38;5;28mzip\u001b[39m(starts, ends, rel_starts, rel_ends):\n\u001b[1;32m     96\u001b[0m     \u001b[38;5;28;01mfor\u001b[39;00m i, sample \u001b[38;5;129;01min\u001b[39;00m \u001b[38;5;28menumerate\u001b[39m(samples):\n\u001b[0;32m---> 97\u001b[0m         out[i, r_s:r_e] \u001b[38;5;241m=\u001b[39m \u001b[38;5;28;43mself\u001b[39;49m\u001b[38;5;241;43m.\u001b[39;49m\u001b[43mreaders\u001b[49m\u001b[43m[\u001b[49m\u001b[43msample\u001b[49m\u001b[43m]\u001b[49m\u001b[38;5;241;43m.\u001b[39;49m\u001b[43mvalues\u001b[49m\u001b[43m(\u001b[49m\u001b[43mcontig\u001b[49m\u001b[43m,\u001b[49m\u001b[43m \u001b[49m\u001b[43ms\u001b[49m\u001b[43m,\u001b[49m\u001b[43m \u001b[49m\u001b[43me\u001b[49m\u001b[43m,\u001b[49m\u001b[43m \u001b[49m\u001b[43mnumpy\u001b[49m\u001b[38;5;241;43m=\u001b[39;49m\u001b[38;5;28;43;01mTrue\u001b[39;49;00m\u001b[43m)\u001b[49m\n\u001b[1;32m     99\u001b[0m out[np\u001b[38;5;241m.\u001b[39misnan(out)] \u001b[38;5;241m=\u001b[39m \u001b[38;5;241m0\u001b[39m\n\u001b[1;32m    101\u001b[0m \u001b[38;5;28;01mreturn\u001b[39;00m out\n",
      "\u001b[0;31mKeyboardInterrupt\u001b[0m: "
     ]
    }
   ],
   "source": [
    "ztracks = gvl.ZarrTracks.from_reader(\n",
    "    bw_reader,\n",
    "    '/iblm/netapp/data4/shared_dir/hyena_dna_collab/downstream_tasks/iPSCORE_cvpc/rna_coverage.zarr',\n",
    ")"
   ]
  }
 ],
 "metadata": {
  "kernelspec": {
   "display_name": "dna-lm",
   "language": "python",
   "name": "python3"
  },
  "language_info": {
   "codemirror_mode": {
    "name": "ipython",
    "version": 3
   },
   "file_extension": ".py",
   "mimetype": "text/x-python",
   "name": "python",
   "nbconvert_exporter": "python",
   "pygments_lexer": "ipython3",
   "version": "3.10.13"
  }
 },
 "nbformat": 4,
 "nbformat_minor": 2
}
