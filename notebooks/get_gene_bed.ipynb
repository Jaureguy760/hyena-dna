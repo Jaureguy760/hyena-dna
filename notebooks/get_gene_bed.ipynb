{
 "cells": [
  {
   "cell_type": "code",
   "execution_count": 1,
   "metadata": {},
   "outputs": [],
   "source": [
    "import polars as pl"
   ]
  },
  {
   "cell_type": "code",
   "execution_count": 2,
   "metadata": {},
   "outputs": [
    {
     "data": {
      "text/html": [
       "<div><style>\n",
       ".dataframe > thead > tr,\n",
       ".dataframe > tbody > tr {\n",
       "  text-align: right;\n",
       "  white-space: pre-wrap;\n",
       "}\n",
       "</style>\n",
       "<small>shape: (5, 9)</small><table border=\"1\" class=\"dataframe\"><thead><tr><th>chrom</th><th>source</th><th>feature</th><th>start</th><th>end</th><th>score</th><th>strand</th><th>frame</th><th>attribute</th></tr><tr><td>str</td><td>str</td><td>str</td><td>i64</td><td>i64</td><td>str</td><td>str</td><td>str</td><td>str</td></tr></thead><tbody><tr><td>&quot;chr1&quot;</td><td>&quot;knownGene&quot;</td><td>&quot;transcript&quot;</td><td>11869</td><td>14409</td><td>&quot;.&quot;</td><td>&quot;+&quot;</td><td>&quot;.&quot;</td><td>&quot;gene_id &quot;ENST0…</td></tr><tr><td>&quot;chr1&quot;</td><td>&quot;knownGene&quot;</td><td>&quot;exon&quot;</td><td>11869</td><td>12227</td><td>&quot;.&quot;</td><td>&quot;+&quot;</td><td>&quot;.&quot;</td><td>&quot;gene_id &quot;ENST0…</td></tr><tr><td>&quot;chr1&quot;</td><td>&quot;knownGene&quot;</td><td>&quot;exon&quot;</td><td>12613</td><td>12721</td><td>&quot;.&quot;</td><td>&quot;+&quot;</td><td>&quot;.&quot;</td><td>&quot;gene_id &quot;ENST0…</td></tr><tr><td>&quot;chr1&quot;</td><td>&quot;knownGene&quot;</td><td>&quot;exon&quot;</td><td>13221</td><td>14409</td><td>&quot;.&quot;</td><td>&quot;+&quot;</td><td>&quot;.&quot;</td><td>&quot;gene_id &quot;ENST0…</td></tr><tr><td>&quot;chr1&quot;</td><td>&quot;knownGene&quot;</td><td>&quot;transcript&quot;</td><td>17369</td><td>17436</td><td>&quot;.&quot;</td><td>&quot;-&quot;</td><td>&quot;.&quot;</td><td>&quot;gene_id &quot;ENST0…</td></tr></tbody></table></div>"
      ],
      "text/plain": [
       "shape: (5, 9)\n",
       "┌───────┬───────────┬────────────┬───────┬───┬───────┬────────┬───────┬────────────────────────────┐\n",
       "│ chrom ┆ source    ┆ feature    ┆ start ┆ … ┆ score ┆ strand ┆ frame ┆ attribute                  │\n",
       "│ ---   ┆ ---       ┆ ---        ┆ ---   ┆   ┆ ---   ┆ ---    ┆ ---   ┆ ---                        │\n",
       "│ str   ┆ str       ┆ str        ┆ i64   ┆   ┆ str   ┆ str    ┆ str   ┆ str                        │\n",
       "╞═══════╪═══════════╪════════════╪═══════╪═══╪═══════╪════════╪═══════╪════════════════════════════╡\n",
       "│ chr1  ┆ knownGene ┆ transcript ┆ 11869 ┆ … ┆ .     ┆ +      ┆ .     ┆ gene_id                    │\n",
       "│       ┆           ┆            ┆       ┆   ┆       ┆        ┆       ┆ \"ENST00000456328.2\"; tra…  │\n",
       "│ chr1  ┆ knownGene ┆ exon       ┆ 11869 ┆ … ┆ .     ┆ +      ┆ .     ┆ gene_id                    │\n",
       "│       ┆           ┆            ┆       ┆   ┆       ┆        ┆       ┆ \"ENST00000456328.2\"; tra…  │\n",
       "│ chr1  ┆ knownGene ┆ exon       ┆ 12613 ┆ … ┆ .     ┆ +      ┆ .     ┆ gene_id                    │\n",
       "│       ┆           ┆            ┆       ┆   ┆       ┆        ┆       ┆ \"ENST00000456328.2\"; tra…  │\n",
       "│ chr1  ┆ knownGene ┆ exon       ┆ 13221 ┆ … ┆ .     ┆ +      ┆ .     ┆ gene_id                    │\n",
       "│       ┆           ┆            ┆       ┆   ┆       ┆        ┆       ┆ \"ENST00000456328.2\"; tra…  │\n",
       "│ chr1  ┆ knownGene ┆ transcript ┆ 17369 ┆ … ┆ .     ┆ -      ┆ .     ┆ gene_id                    │\n",
       "│       ┆           ┆            ┆       ┆   ┆       ┆        ┆       ┆ \"ENST00000619216.1\"; tra…  │\n",
       "└───────┴───────────┴────────────┴───────┴───┴───────┴────────┴───────┴────────────────────────────┘"
      ]
     },
     "execution_count": 2,
     "metadata": {},
     "output_type": "execute_result"
    }
   ],
   "source": [
    "gtf = pl.read_csv(\n",
    "    '/iblm/netapp/data4/shared_dir/hyena_dna_collab/downstream_tasks/iPSCORE_cvpc/STAR/hg38.knownGene.gtf',\n",
    "    separator='\\t',\n",
    "    has_header=False,\n",
    "    new_columns=['chrom', 'source', 'feature', 'start', 'end', 'score', 'strand', 'frame', 'attribute']\n",
    ")\n",
    "gtf.head()"
   ]
  },
  {
   "cell_type": "code",
   "execution_count": 3,
   "metadata": {},
   "outputs": [
    {
     "data": {
      "text/html": [
       "<div><style>\n",
       ".dataframe > thead > tr,\n",
       ".dataframe > tbody > tr {\n",
       "  text-align: right;\n",
       "  white-space: pre-wrap;\n",
       "}\n",
       "</style>\n",
       "<small>shape: (5, 10)</small><table border=\"1\" class=\"dataframe\"><thead><tr><th>chrom</th><th>source</th><th>feature</th><th>start</th><th>end</th><th>score</th><th>strand</th><th>frame</th><th>attribute</th><th>enst</th></tr><tr><td>str</td><td>str</td><td>str</td><td>i64</td><td>i64</td><td>str</td><td>str</td><td>str</td><td>str</td><td>str</td></tr></thead><tbody><tr><td>&quot;chr1&quot;</td><td>&quot;knownGene&quot;</td><td>&quot;transcript&quot;</td><td>11869</td><td>14409</td><td>&quot;.&quot;</td><td>&quot;+&quot;</td><td>&quot;.&quot;</td><td>&quot;gene_id &quot;ENST0…</td><td>&quot;ENST0000045632…</td></tr><tr><td>&quot;chr1&quot;</td><td>&quot;knownGene&quot;</td><td>&quot;transcript&quot;</td><td>17369</td><td>17436</td><td>&quot;.&quot;</td><td>&quot;-&quot;</td><td>&quot;.&quot;</td><td>&quot;gene_id &quot;ENST0…</td><td>&quot;ENST0000061921…</td></tr><tr><td>&quot;chr1&quot;</td><td>&quot;knownGene&quot;</td><td>&quot;transcript&quot;</td><td>29554</td><td>31097</td><td>&quot;.&quot;</td><td>&quot;+&quot;</td><td>&quot;.&quot;</td><td>&quot;gene_id &quot;ENST0…</td><td>&quot;ENST0000047335…</td></tr><tr><td>&quot;chr1&quot;</td><td>&quot;knownGene&quot;</td><td>&quot;transcript&quot;</td><td>30267</td><td>31109</td><td>&quot;.&quot;</td><td>&quot;+&quot;</td><td>&quot;.&quot;</td><td>&quot;gene_id &quot;ENST0…</td><td>&quot;ENST0000046928…</td></tr><tr><td>&quot;chr1&quot;</td><td>&quot;knownGene&quot;</td><td>&quot;transcript&quot;</td><td>30366</td><td>30503</td><td>&quot;.&quot;</td><td>&quot;+&quot;</td><td>&quot;.&quot;</td><td>&quot;gene_id &quot;ENST0…</td><td>&quot;ENST0000060709…</td></tr></tbody></table></div>"
      ],
      "text/plain": [
       "shape: (5, 10)\n",
       "┌───────┬───────────┬────────────┬───────┬───┬────────┬───────┬──────────────────┬─────────────────┐\n",
       "│ chrom ┆ source    ┆ feature    ┆ start ┆ … ┆ strand ┆ frame ┆ attribute        ┆ enst            │\n",
       "│ ---   ┆ ---       ┆ ---        ┆ ---   ┆   ┆ ---    ┆ ---   ┆ ---              ┆ ---             │\n",
       "│ str   ┆ str       ┆ str        ┆ i64   ┆   ┆ str    ┆ str   ┆ str              ┆ str             │\n",
       "╞═══════╪═══════════╪════════════╪═══════╪═══╪════════╪═══════╪══════════════════╪═════════════════╡\n",
       "│ chr1  ┆ knownGene ┆ transcript ┆ 11869 ┆ … ┆ +      ┆ .     ┆ gene_id \"ENST000 ┆ ENST00000456328 │\n",
       "│       ┆           ┆            ┆       ┆   ┆        ┆       ┆ 00456328.2\";     ┆ .2              │\n",
       "│       ┆           ┆            ┆       ┆   ┆        ┆       ┆ tra…             ┆                 │\n",
       "│ chr1  ┆ knownGene ┆ transcript ┆ 17369 ┆ … ┆ -      ┆ .     ┆ gene_id \"ENST000 ┆ ENST00000619216 │\n",
       "│       ┆           ┆            ┆       ┆   ┆        ┆       ┆ 00619216.1\";     ┆ .1              │\n",
       "│       ┆           ┆            ┆       ┆   ┆        ┆       ┆ tra…             ┆                 │\n",
       "│ chr1  ┆ knownGene ┆ transcript ┆ 29554 ┆ … ┆ +      ┆ .     ┆ gene_id \"ENST000 ┆ ENST00000473358 │\n",
       "│       ┆           ┆            ┆       ┆   ┆        ┆       ┆ 00473358.1\";     ┆ .1              │\n",
       "│       ┆           ┆            ┆       ┆   ┆        ┆       ┆ tra…             ┆                 │\n",
       "│ chr1  ┆ knownGene ┆ transcript ┆ 30267 ┆ … ┆ +      ┆ .     ┆ gene_id \"ENST000 ┆ ENST00000469289 │\n",
       "│       ┆           ┆            ┆       ┆   ┆        ┆       ┆ 00469289.1\";     ┆ .1              │\n",
       "│       ┆           ┆            ┆       ┆   ┆        ┆       ┆ tra…             ┆                 │\n",
       "│ chr1  ┆ knownGene ┆ transcript ┆ 30366 ┆ … ┆ +      ┆ .     ┆ gene_id \"ENST000 ┆ ENST00000607096 │\n",
       "│       ┆           ┆            ┆       ┆   ┆        ┆       ┆ 00607096.1\";     ┆ .1              │\n",
       "│       ┆           ┆            ┆       ┆   ┆        ┆       ┆ tra…             ┆                 │\n",
       "└───────┴───────────┴────────────┴───────┴───┴────────┴───────┴──────────────────┴─────────────────┘"
      ]
     },
     "execution_count": 3,
     "metadata": {},
     "output_type": "execute_result"
    }
   ],
   "source": [
    "transcripts = (\n",
    "    gtf\n",
    "    .filter(pl.col('feature') == 'transcript')\n",
    "    .with_columns(enst=pl.col('attribute').str.extract(r'gene_id \"([^\"]+)\";'))\n",
    "    .filter(pl.col('enst').str.starts_with('ENST'))\n",
    ")\n",
    "transcripts.head()"
   ]
  },
  {
   "cell_type": "code",
   "execution_count": 4,
   "metadata": {},
   "outputs": [],
   "source": [
    "(\n",
    "    transcripts\n",
    "    .select('chrom', 'start', 'end', 'enst')\n",
    "    .write_csv(\n",
    "        '/iblm/netapp/data4/shared_dir/hyena_dna_collab/downstream_tasks/iPSCORE_cvpc/transcripts.bed',\n",
    "        separator='\\t',\n",
    "        include_header=False\n",
    "    )\n",
    ")"
   ]
  },
  {
   "cell_type": "code",
   "execution_count": 7,
   "metadata": {},
   "outputs": [],
   "source": [
    "ens = pl.read_csv(\n",
    "    'ens.tsv.gz',\n",
    "    separator='\\t',\n",
    ")"
   ]
  },
  {
   "cell_type": "code",
   "execution_count": 15,
   "metadata": {},
   "outputs": [
    {
     "data": {
      "text/html": [
       "<div><style>\n",
       ".dataframe > thead > tr,\n",
       ".dataframe > tbody > tr {\n",
       "  text-align: right;\n",
       "  white-space: pre-wrap;\n",
       "}\n",
       "</style>\n",
       "<small>shape: (5, 9)</small><table border=\"1\" class=\"dataframe\"><thead><tr><th>Gene stable ID</th><th>Transcript stable ID</th><th>Transcript stable ID version</th><th>Gene stable ID version</th><th>Ensembl Canonical</th><th>Gene start (bp)</th><th>Gene end (bp)</th><th>Chromosome/scaffold name</th><th>Gene name</th></tr><tr><td>str</td><td>str</td><td>str</td><td>str</td><td>i64</td><td>i64</td><td>i64</td><td>str</td><td>str</td></tr></thead><tbody><tr><td>&quot;ENSG00000210049&quot;</td><td>&quot;ENST00000387314&quot;</td><td>&quot;ENST00000387314.1&quot;</td><td>&quot;ENSG00000210049.1&quot;</td><td>1</td><td>577</td><td>647</td><td>&quot;MT&quot;</td><td>&quot;MT-TF&quot;</td></tr><tr><td>&quot;ENSG00000211459&quot;</td><td>&quot;ENST00000389680&quot;</td><td>&quot;ENST00000389680.2&quot;</td><td>&quot;ENSG00000211459.2&quot;</td><td>1</td><td>648</td><td>1601</td><td>&quot;MT&quot;</td><td>&quot;MT-RNR1&quot;</td></tr><tr><td>&quot;ENSG00000210077&quot;</td><td>&quot;ENST00000387342&quot;</td><td>&quot;ENST00000387342.1&quot;</td><td>&quot;ENSG00000210077.1&quot;</td><td>1</td><td>1602</td><td>1670</td><td>&quot;MT&quot;</td><td>&quot;MT-TV&quot;</td></tr><tr><td>&quot;ENSG00000210082&quot;</td><td>&quot;ENST00000387347&quot;</td><td>&quot;ENST00000387347.2&quot;</td><td>&quot;ENSG00000210082.2&quot;</td><td>1</td><td>1671</td><td>3229</td><td>&quot;MT&quot;</td><td>&quot;MT-RNR2&quot;</td></tr><tr><td>&quot;ENSG00000209082&quot;</td><td>&quot;ENST00000386347&quot;</td><td>&quot;ENST00000386347.1&quot;</td><td>&quot;ENSG00000209082.1&quot;</td><td>1</td><td>3230</td><td>3304</td><td>&quot;MT&quot;</td><td>&quot;MT-TL1&quot;</td></tr></tbody></table></div>"
      ],
      "text/plain": [
       "shape: (5, 9)\n",
       "┌────────────┬────────────┬────────────┬───────────┬───┬───────┬───────────┬───────────┬───────────┐\n",
       "│ Gene       ┆ Transcript ┆ Transcript ┆ Gene      ┆ … ┆ Gene  ┆ Gene end  ┆ Chromosom ┆ Gene name │\n",
       "│ stable ID  ┆ stable ID  ┆ stable ID  ┆ stable ID ┆   ┆ start ┆ (bp)      ┆ e/scaffol ┆ ---       │\n",
       "│ ---        ┆ ---        ┆ version    ┆ version   ┆   ┆ (bp)  ┆ ---       ┆ d name    ┆ str       │\n",
       "│ str        ┆ str        ┆ ---        ┆ ---       ┆   ┆ ---   ┆ i64       ┆ ---       ┆           │\n",
       "│            ┆            ┆ str        ┆ str       ┆   ┆ i64   ┆           ┆ str       ┆           │\n",
       "╞════════════╪════════════╪════════════╪═══════════╪═══╪═══════╪═══════════╪═══════════╪═══════════╡\n",
       "│ ENSG000002 ┆ ENST000003 ┆ ENST000003 ┆ ENSG00000 ┆ … ┆ 577   ┆ 647       ┆ MT        ┆ MT-TF     │\n",
       "│ 10049      ┆ 87314      ┆ 87314.1    ┆ 210049.1  ┆   ┆       ┆           ┆           ┆           │\n",
       "│ ENSG000002 ┆ ENST000003 ┆ ENST000003 ┆ ENSG00000 ┆ … ┆ 648   ┆ 1601      ┆ MT        ┆ MT-RNR1   │\n",
       "│ 11459      ┆ 89680      ┆ 89680.2    ┆ 211459.2  ┆   ┆       ┆           ┆           ┆           │\n",
       "│ ENSG000002 ┆ ENST000003 ┆ ENST000003 ┆ ENSG00000 ┆ … ┆ 1602  ┆ 1670      ┆ MT        ┆ MT-TV     │\n",
       "│ 10077      ┆ 87342      ┆ 87342.1    ┆ 210077.1  ┆   ┆       ┆           ┆           ┆           │\n",
       "│ ENSG000002 ┆ ENST000003 ┆ ENST000003 ┆ ENSG00000 ┆ … ┆ 1671  ┆ 3229      ┆ MT        ┆ MT-RNR2   │\n",
       "│ 10082      ┆ 87347      ┆ 87347.2    ┆ 210082.2  ┆   ┆       ┆           ┆           ┆           │\n",
       "│ ENSG000002 ┆ ENST000003 ┆ ENST000003 ┆ ENSG00000 ┆ … ┆ 3230  ┆ 3304      ┆ MT        ┆ MT-TL1    │\n",
       "│ 09082      ┆ 86347      ┆ 86347.1    ┆ 209082.1  ┆   ┆       ┆           ┆           ┆           │\n",
       "└────────────┴────────────┴────────────┴───────────┴───┴───────┴───────────┴───────────┴───────────┘"
      ]
     },
     "execution_count": 15,
     "metadata": {},
     "output_type": "execute_result"
    }
   ],
   "source": [
    "ens.head()"
   ]
  },
  {
   "cell_type": "code",
   "execution_count": 9,
   "metadata": {},
   "outputs": [
    {
     "data": {
      "text/plain": [
       "polars.config.Config"
      ]
     },
     "execution_count": 9,
     "metadata": {},
     "output_type": "execute_result"
    }
   ],
   "source": [
    "pl.Config.set_fmt_str_lengths(30)"
   ]
  },
  {
   "cell_type": "code",
   "execution_count": 18,
   "metadata": {},
   "outputs": [],
   "source": [
    "(\n",
    "    transcripts\n",
    "    .join(ens, left_on='enst', right_on='Transcript stable ID version')\n",
    "    .filter(pl.col('Ensembl Canonical') == 1)\n",
    "    .select('Chromosome/scaffold name', 'Gene start (bp)', 'Gene end (bp)', 'Gene stable ID')\n",
    "    .unique()\n",
    "    .sort('Chromosome/scaffold name', 'Gene start (bp)', 'Gene end (bp)')\n",
    "    .write_csv(\n",
    "        '/iblm/netapp/data4/shared_dir/hyena_dna_collab/downstream_tasks/iPSCORE_cvpc/genes.bed',\n",
    "        include_header=False,\n",
    "        separator='\\t'\n",
    "    )\n",
    ")"
   ]
  }
 ],
 "metadata": {
  "kernelspec": {
   "display_name": "dna-lm",
   "language": "python",
   "name": "python3"
  },
  "language_info": {
   "codemirror_mode": {
    "name": "ipython",
    "version": 3
   },
   "file_extension": ".py",
   "mimetype": "text/x-python",
   "name": "python",
   "nbconvert_exporter": "python",
   "pygments_lexer": "ipython3",
   "version": "3.10.13"
  }
 },
 "nbformat": 4,
 "nbformat_minor": 2
}
