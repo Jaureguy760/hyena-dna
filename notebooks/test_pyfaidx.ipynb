{
 "cells": [
  {
   "cell_type": "code",
   "execution_count": 1,
   "metadata": {},
   "outputs": [],
   "source": [
    "from pyfaidx import FastaVariant\n",
    "import cyvcf2"
   ]
  },
  {
   "cell_type": "code",
   "execution_count": 9,
   "metadata": {},
   "outputs": [],
   "source": [
    "ref = '/iblm/netapp/data4/shared_dir/hyena_dna_collab/1kGP/GRCh38_full_analysis_set_plus_decoy_hla.fa'\n",
    "vcf = '/iblm/netapp/data4/Frazer_collab/ipscs/datasets/raw/genotypes/michigan_impute/results/final_vcf/merged_sorted.vcf.gz'"
   ]
  },
  {
   "cell_type": "code",
   "execution_count": 10,
   "metadata": {},
   "outputs": [],
   "source": [
    "handle = cyvcf2.VCF(vcf)"
   ]
  },
  {
   "cell_type": "code",
   "execution_count": 11,
   "metadata": {},
   "outputs": [],
   "source": [
    "sample = handle.samples[0]\n",
    "handle.set_samples([sample])"
   ]
  },
  {
   "cell_type": "code",
   "execution_count": 12,
   "metadata": {},
   "outputs": [
    {
     "name": "stdout",
     "output_type": "stream",
     "text": [
      "94594 G ['A']\n",
      "[[1 0 1]]\n"
     ]
    }
   ],
   "source": [
    "for v in handle('chr4'):\n",
    "    if v.is_snp and v.num_het == 1:\n",
    "        print(v.POS, v.REF, v.ALT)\n",
    "        print(v.genotype.array())\n",
    "        break"
   ]
  },
  {
   "cell_type": "code",
   "execution_count": 13,
   "metadata": {},
   "outputs": [],
   "source": [
    "var = FastaVariant(ref, vcf, sample)"
   ]
  },
  {
   "cell_type": "code",
   "execution_count": 15,
   "metadata": {},
   "outputs": [
    {
     "data": {
      "text/plain": [
       ">chr4:94593-94595\n",
       "GAG"
      ]
     },
     "execution_count": 15,
     "metadata": {},
     "output_type": "execute_result"
    }
   ],
   "source": [
    "var.get_seq('chr4', 94593, 94593+2)"
   ]
  },
  {
   "cell_type": "code",
   "execution_count": 21,
   "metadata": {},
   "outputs": [],
   "source": [
    "seq = var['chr4'][94593:94593+3]"
   ]
  },
  {
   "cell_type": "code",
   "execution_count": 26,
   "metadata": {},
   "outputs": [
    {
     "name": "stdout",
     "output_type": "stream",
     "text": [
      "1\n"
     ]
    }
   ],
   "source": [
    "for record in var.vcf.fetch('chr4', 94593, 94593+2):\n",
    "    print(record.genotype(sample).gt_type)"
   ]
  }
 ],
 "metadata": {
  "kernelspec": {
   "display_name": "dna-lm",
   "language": "python",
   "name": "python3"
  },
  "language_info": {
   "codemirror_mode": {
    "name": "ipython",
    "version": 3
   },
   "file_extension": ".py",
   "mimetype": "text/x-python",
   "name": "python",
   "nbconvert_exporter": "python",
   "pygments_lexer": "ipython3",
   "version": "3.10.13"
  }
 },
 "nbformat": 4,
 "nbformat_minor": 2
}
